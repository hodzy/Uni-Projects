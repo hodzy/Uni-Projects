{
 "cells": [
  {
   "cell_type": "code",
   "execution_count": null,
   "metadata": {},
   "outputs": [],
   "source": [
    "# comparison to best performing approach (final_version) is comparable with lower angles, and gets\n",
    "# worse with higher angles \n",
    "\n",
    "# couldn't find any particular reasons that can explain the results\n",
    "\n",
    "\n",
    "# possible problem with the angles:\n",
    "# 1- thresholding can cause the angle to change\n",
    "\n",
    "# differences between the two approaches\n",
    "# 1- we use the set_upright and we save the angle to be passed later to the model (was expected to improve the \n",
    "#     performance rather than worsen it)\n",
    "# 2- this method is trained on less samples, no data augmentation (though that shouldn't worsen the performance,\n",
    "#     because set_upright should nulify the random rotation applied)\n",
    "\n",
    "# so possibly the set_upright doesn't work as intended or saving the angle worsen the accuracy of the model"
   ]
  },
  {
   "cell_type": "code",
   "execution_count": 200,
   "metadata": {},
   "outputs": [],
   "source": [
    "# random_angle_training = 0\n",
    "\n",
    "# random_angle_test = 0\n",
    "# base accuracy:  95.97\n",
    "\n",
    "# random_angle_test = 15\n",
    "# accuracy:  92.23\n",
    "\n",
    "# random_angle_test = 30\n",
    "# accuracy:  81.53\n",
    "\n",
    "# random_angle_test = 45\n",
    "# accuracy:  70.79"
   ]
  },
  {
   "cell_type": "code",
   "execution_count": null,
   "metadata": {},
   "outputs": [],
   "source": [
    "# random_angle_training = 45\n",
    "\n",
    "# random_angle_test = 0\n",
    "# accuracy:  93.36\n",
    "\n",
    "# random_angle_test = 15\n",
    "# accuracy:  93.71\n",
    "\n",
    "# random_angle_test = 30\n",
    "# accuracy:  93.03\n",
    "\n",
    "# random_angle_test = 45\n",
    "# accuracy:  92.17\n",
    "\n",
    "# random_angle_test = 60\n",
    "# accuracy:  90.2\n",
    "\n",
    "# random_angle_test = 75\n",
    "# accuracy:  84.86\n",
    "\n",
    "# random_angle_test = 90\n",
    "# accuracy:  76.69"
   ]
  },
  {
   "cell_type": "code",
   "execution_count": null,
   "metadata": {},
   "outputs": [],
   "source": [
    "# angle_training = 90\n",
    "\n",
    "# random_angle_test = 0\n",
    "# accuracy:  90.09\n",
    "\n",
    "# random_angle_test = 15\n",
    "# accuracy:  90.87\n",
    "\n",
    "# random_angle_test = 30\n",
    "# accuracy:  90.24\n",
    "\n",
    "# random_angle_test = 45\n",
    "# accuracy:  90.97\n",
    "\n",
    "# random_angle_test = 60\n",
    "# accuracy:  90.75\n",
    "\n",
    "# random_angle_test = 75\n",
    "# accuracy:  90.41\n",
    "\n",
    "# random_angle_test = 90\n",
    "# accuracy:  89.33\n",
    "\n",
    "# random_angle_test = 105\n",
    "# accuracy:  87.29\n",
    "\n",
    "# random_angle_test = 120\n",
    "# accuracy:  82.49\n",
    "\n",
    "# random_angle_test = 135\n",
    "# accuracy:  77.74"
   ]
  },
  {
   "cell_type": "code",
   "execution_count": 1,
   "metadata": {},
   "outputs": [],
   "source": [
    "import numpy as np\n",
    "import pandas as pd\n",
    "import cv2\n",
    "from PIL import Image\n",
    "from matplotlib.pyplot import imshow\n",
    "import math\n",
    "import os, os.path\n",
    "import webbrowser\n",
    "import imutils\n",
    "import random"
   ]
  },
  {
   "cell_type": "code",
   "execution_count": 31,
   "metadata": {},
   "outputs": [],
   "source": [
    "# here we are using contouring to find the angle of the image, and then using it to make the image upright\n",
    "\n",
    "def new_random_rotate(path, angle_range):\n",
    "    \n",
    "    # dimenstions for resizing (width, height)\n",
    "    dim = (28, 28)\n",
    "\n",
    "    data = []\n",
    "    labels = []\n",
    "    valid_images = [\".jpg\"]\n",
    "\n",
    "    for i in range(10):\n",
    "        path = path + \"\\\\\" + str(i)\n",
    "#     print(path)\n",
    "        print(i)\n",
    "        for f in os.listdir(path):\n",
    "            ext = os.path.splitext(f)[1]\n",
    "            if ext.lower() not in valid_images:\n",
    "                continue\n",
    "            image = cv2.imread(os.path.join(path,f))\n",
    "            gray = cv2.cvtColor(image, cv2.COLOR_BGR2GRAY)\n",
    "            \n",
    "            \n",
    "            random_angle = random.randint(-angle_range, angle_range)        \n",
    "            rotated_image = imutils.rotate_bound(gray, angle= random_angle)\n",
    "            ret,thresh = cv2.threshold(rotated_image,50,255,0)\n",
    "\n",
    "            \n",
    "            resized = cv2.resize(thresh, dim, interpolation = cv2.INTER_AREA)\n",
    "#             flat_array = resized.flatten()\n",
    "            data.append(resized)\n",
    "            \n",
    "            labels.append(i)\n",
    "     \n",
    "        path = path.rsplit('\\\\',1)[0]\n",
    "\n",
    "    return (data, labels)"
   ]
  },
  {
   "cell_type": "code",
   "execution_count": 24,
   "metadata": {},
   "outputs": [],
   "source": [
    "def new_set_upright(the_set):\n",
    "    dim = (28, 28)\n",
    "    data = []\n",
    "    \n",
    "    for gray_image in the_set:\n",
    "#         ret,thresh = cv2.threshold(gray_image,10,255,0)\n",
    "        rotation_angle = find_angle_image(gray_image)\n",
    "\n",
    "        if rotation_angle > 45:\n",
    "            rotated_image = imutils.rotate_bound(gray_image, angle= (90-rotation_angle))\n",
    "        elif rotation_angle <= 45:\n",
    "            rotated_image = imutils.rotate_bound(gray_image, angle= (rotation_angle))\n",
    "            \n",
    "        resized = cv2.resize(rotated_image, dim, interpolation = cv2.INTER_AREA)\n",
    "\n",
    "\n",
    "        ret,thresh = cv2.threshold(resized,50,255,0)\n",
    "        \n",
    "        flat_array = thresh.flatten()\n",
    "        \n",
    "        data.append(flat_array)\n",
    "    return data"
   ]
  },
  {
   "cell_type": "code",
   "execution_count": 25,
   "metadata": {},
   "outputs": [],
   "source": [
    "def find_angle_image(image):\n",
    "    \n",
    "    contours, hierarchy = cv2.findContours(image, cv2.RETR_CCOMP , cv2.CHAIN_APPROX_SIMPLE)\n",
    "    cnt = max(contours, key = cv2.contourArea)\n",
    "    rect = cv2.minAreaRect(cnt)\n",
    "    rotation_angle = round(cv2.minAreaRect(cnt)[2])\n",
    "    \n",
    "    return rotation_angle"
   ]
  },
  {
   "cell_type": "code",
   "execution_count": 26,
   "metadata": {},
   "outputs": [],
   "source": [
    "def add_angle_set(the_set):\n",
    "    data=[]\n",
    "    for image in the_set:\n",
    "        rotation_angle= find_angle_image(image)\n",
    "        flat_array = image.flatten()        \n",
    "        flat_array = np.concatenate([[rotation_angle],flat_array])   \n",
    "        data.append(flat_array)\n",
    "        \n",
    "    return data"
   ]
  },
  {
   "cell_type": "code",
   "execution_count": 40,
   "metadata": {},
   "outputs": [],
   "source": [
    "#ADDED LATER\n",
    "\n",
    "def calculate_accuracy(test_results, test_labels):\n",
    "    error = 0\n",
    "    for i in range(len(test_results)):\n",
    "        if test_results[i] != test_labels[i]:\n",
    "            error += 1\n",
    "    return ((len(test_labels)-error)/len(test_labels)*100)"
   ]
  },
  {
   "cell_type": "code",
   "execution_count": 49,
   "metadata": {},
   "outputs": [
    {
     "name": "stdout",
     "output_type": "stream",
     "text": [
      "preprocessing: random rotate training data\n",
      "0\n",
      "1\n",
      "2\n",
      "3\n",
      "4\n",
      "5\n",
      "6\n",
      "7\n",
      "8\n",
      "9\n"
     ]
    }
   ],
   "source": [
    "random_angle_training = 90\n",
    "\n",
    "\n",
    "print(\"preprocessing: random rotate training data\")\n",
    "taining_path = \".\\MNIST_Dataset_JPG_format\\MNIST_JPG_training\"\n",
    "(training_data, training_labels) = new_random_rotate(taining_path, random_angle_training)"
   ]
  },
  {
   "cell_type": "code",
   "execution_count": 50,
   "metadata": {
    "scrolled": true
   },
   "outputs": [],
   "source": [
    "# print(\"preprocessing: normalize training data\")\n",
    "training_data = new_set_upright(training_data)"
   ]
  },
  {
   "cell_type": "code",
   "execution_count": 51,
   "metadata": {},
   "outputs": [],
   "source": [
    "# print(\"finding the random angle: training set\")\n",
    "training_data=add_angle_set(training_data)"
   ]
  },
  {
   "cell_type": "code",
   "execution_count": 52,
   "metadata": {},
   "outputs": [
    {
     "data": {
      "text/plain": [
       "RandomForestClassifier(bootstrap=True, ccp_alpha=0.0, class_weight=None,\n",
       "                       criterion='gini', max_depth=50, max_features='auto',\n",
       "                       max_leaf_nodes=None, max_samples=None,\n",
       "                       min_impurity_decrease=0.0, min_impurity_split=None,\n",
       "                       min_samples_leaf=1, min_samples_split=2,\n",
       "                       min_weight_fraction_leaf=0.0, n_estimators=100,\n",
       "                       n_jobs=None, oob_score=False, random_state=0, verbose=0,\n",
       "                       warm_start=False)"
      ]
     },
     "execution_count": 52,
     "metadata": {},
     "output_type": "execute_result"
    }
   ],
   "source": [
    "from sklearn.ensemble import RandomForestClassifier\n",
    "\n",
    "\n",
    "# change max depth\n",
    "# clf = RandomForestClassifier(max_depth=15, random_state=0)\n",
    "# clf = RandomForestClassifier(max_depth=30, random_state=0)\n",
    "clf = RandomForestClassifier(max_depth=50, random_state=0)\n",
    "\n",
    "\n",
    "clf.fit(training_data, training_labels)"
   ]
  },
  {
   "cell_type": "code",
   "execution_count": 53,
   "metadata": {},
   "outputs": [
    {
     "name": "stdout",
     "output_type": "stream",
     "text": [
      "preprocessing: random rotate test data\n",
      "angle:  0\n",
      "preprocessing: random rotate test data\n",
      "0\n",
      "1\n",
      "2\n",
      "3\n",
      "4\n",
      "5\n",
      "6\n",
      "7\n",
      "8\n",
      "9\n",
      "angle:  15\n",
      "preprocessing: random rotate test data\n",
      "0\n",
      "1\n",
      "2\n",
      "3\n",
      "4\n",
      "5\n",
      "6\n",
      "7\n",
      "8\n",
      "9\n",
      "angle:  30\n",
      "preprocessing: random rotate test data\n",
      "0\n",
      "1\n",
      "2\n",
      "3\n",
      "4\n",
      "5\n",
      "6\n",
      "7\n",
      "8\n",
      "9\n",
      "angle:  45\n",
      "preprocessing: random rotate test data\n",
      "0\n",
      "1\n",
      "2\n",
      "3\n",
      "4\n",
      "5\n",
      "6\n",
      "7\n",
      "8\n",
      "9\n",
      "angle:  60\n",
      "preprocessing: random rotate test data\n",
      "0\n",
      "1\n",
      "2\n",
      "3\n",
      "4\n",
      "5\n",
      "6\n",
      "7\n",
      "8\n",
      "9\n",
      "angle:  75\n",
      "preprocessing: random rotate test data\n",
      "0\n",
      "1\n",
      "2\n",
      "3\n",
      "4\n",
      "5\n",
      "6\n",
      "7\n",
      "8\n",
      "9\n",
      "angle:  90\n",
      "preprocessing: random rotate test data\n",
      "0\n",
      "1\n",
      "2\n",
      "3\n",
      "4\n",
      "5\n",
      "6\n",
      "7\n",
      "8\n",
      "9\n",
      "angle:  105\n",
      "preprocessing: random rotate test data\n",
      "0\n",
      "1\n",
      "2\n",
      "3\n",
      "4\n",
      "5\n",
      "6\n",
      "7\n",
      "8\n",
      "9\n",
      "angle:  120\n",
      "preprocessing: random rotate test data\n",
      "0\n",
      "1\n",
      "2\n",
      "3\n",
      "4\n",
      "5\n",
      "6\n",
      "7\n",
      "8\n",
      "9\n",
      "angle:  135\n",
      "preprocessing: random rotate test data\n",
      "0\n",
      "1\n",
      "2\n",
      "3\n",
      "4\n",
      "5\n",
      "6\n",
      "7\n",
      "8\n",
      "9\n"
     ]
    }
   ],
   "source": [
    "# added later\n",
    "print(\"preprocessing: random rotate test data\")\n",
    "test_path = \".\\MNIST_Dataset_JPG_format\\MNIST_JPG_testing\"\n",
    "results = []\n",
    "\n",
    "for angle in range(0, 136, 15): \n",
    "    print(\"angle: \", angle)\n",
    "    print(\"preprocessing: random rotate test data\")\n",
    "    test_path = \".\\MNIST_Dataset_JPG_format\\MNIST_JPG_testing\"\n",
    "    (test_data, test_labels) = new_random_rotate(test_path, angle)\n",
    "    \n",
    "    # print(\"preprocessing: normalize test data\")\n",
    "    test_data = new_set_upright(test_data)\n",
    "    \n",
    "    # print(\"finding the random angle: test set\")\n",
    "    test_data =add_angle_set(test_data)\n",
    "    \n",
    "    test_results = clf.predict(test_data)\n",
    "    results.append(calculate_accuracy(test_results, test_labels))"
   ]
  },
  {
   "cell_type": "code",
   "execution_count": 54,
   "metadata": {},
   "outputs": [
    {
     "name": "stdout",
     "output_type": "stream",
     "text": [
      "[90.09, 90.86999999999999, 90.24, 90.97, 90.75, 90.41, 89.33, 87.29, 82.49, 77.74]\n"
     ]
    }
   ],
   "source": [
    "print(results)"
   ]
  },
  {
   "cell_type": "code",
   "execution_count": null,
   "metadata": {},
   "outputs": [],
   "source": [
    "# random_angle_test = 180\n",
    "\n",
    "# print(\"preprocessing: random rotate test data\")\n",
    "# test_path = \".\\MNIST_Dataset_JPG_format\\MNIST_JPG_testing\"\n",
    "# (test_data, test_labels) = new_random_rotate(test_path, random_angle_test)"
   ]
  },
  {
   "cell_type": "code",
   "execution_count": null,
   "metadata": {},
   "outputs": [],
   "source": [
    "# print(\"preprocessing: normalize test data\")\n",
    "# test_data = new_set_upright(test_data)"
   ]
  },
  {
   "cell_type": "code",
   "execution_count": null,
   "metadata": {},
   "outputs": [],
   "source": [
    "# print(\"finding the random angle: test set\")\n",
    "# test_data =add_angle_set(test_data)"
   ]
  },
  {
   "cell_type": "code",
   "execution_count": 30,
   "metadata": {},
   "outputs": [],
   "source": [
    "# test_results = clf.predict(test_data)"
   ]
  },
  {
   "cell_type": "code",
   "execution_count": 31,
   "metadata": {},
   "outputs": [
    {
     "name": "stdout",
     "output_type": "stream",
     "text": [
      "[0 0 0 ... 9 9 9]\n"
     ]
    }
   ],
   "source": [
    "# print(test_results)"
   ]
  },
  {
   "cell_type": "code",
   "execution_count": 32,
   "metadata": {},
   "outputs": [
    {
     "name": "stdout",
     "output_type": "stream",
     "text": [
      "errors: 1304\n",
      "sample length:  10000\n",
      "accuracy:  86.96000000000001\n"
     ]
    }
   ],
   "source": [
    "# error = 0\n",
    "# for i in range(len(test_results)):\n",
    "#     if test_results[i] != test_labels[i]:\n",
    "#         error += 1\n",
    "# print(\"errors:\", error)\n",
    "# print(\"sample length: \", len(test_labels))\n",
    "# print(\"accuracy: \", (len(test_labels)-error)/len(test_labels)*100)"
   ]
  },
  {
   "cell_type": "code",
   "execution_count": null,
   "metadata": {},
   "outputs": [],
   "source": []
  }
 ],
 "metadata": {
  "kernelspec": {
   "display_name": "Python 3",
   "language": "python",
   "name": "python3"
  },
  "language_info": {
   "codemirror_mode": {
    "name": "ipython",
    "version": 3
   },
   "file_extension": ".py",
   "mimetype": "text/x-python",
   "name": "python",
   "nbconvert_exporter": "python",
   "pygments_lexer": "ipython3",
   "version": "3.7.6"
  }
 },
 "nbformat": 4,
 "nbformat_minor": 4
}
